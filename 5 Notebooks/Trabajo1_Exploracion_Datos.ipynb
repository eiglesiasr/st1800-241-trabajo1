{
 "cells": [
  {
   "cell_type": "code",
   "execution_count": 1,
   "id": "25c188b7",
   "metadata": {
    "scrolled": true
   },
   "outputs": [
    {
     "name": "stdout",
     "output_type": "stream",
     "text": [
      "Starting Spark application\n"
     ]
    },
    {
     "data": {
      "text/html": [
       "<table>\n",
       "<tr><th>ID</th><th>YARN Application ID</th><th>Kind</th><th>State</th><th>Spark UI</th><th>Driver log</th><th>User</th><th>Current session?</th></tr><tr><td>1</td><td>application_1710535308268_0008</td><td>pyspark</td><td>idle</td><td><a target=\"_blank\" href=\"http://ip-172-31-90-231.ec2.internal:20888/proxy/application_1710535308268_0008/\">Link</a></td><td><a target=\"_blank\" href=\"http://ip-172-31-87-202.ec2.internal:8042/node/containerlogs/container_1710535308268_0008_01_000001/livy\">Link</a></td><td>None</td><td>✔</td></tr></table>"
      ],
      "text/plain": [
       "<IPython.core.display.HTML object>"
      ]
     },
     "metadata": {},
     "output_type": "display_data"
    },
    {
     "data": {
      "application/vnd.jupyter.widget-view+json": {
       "model_id": "",
       "version_major": 2,
       "version_minor": 0
      },
      "text/plain": [
       "FloatProgress(value=0.0, bar_style='info', description='Progress:', layout=Layout(height='25px', width='50%'),…"
      ]
     },
     "metadata": {},
     "output_type": "display_data"
    },
    {
     "name": "stdout",
     "output_type": "stream",
     "text": [
      "SparkSession available as 'spark'.\n"
     ]
    },
    {
     "data": {
      "application/vnd.jupyter.widget-view+json": {
       "model_id": "",
       "version_major": 2,
       "version_minor": 0
      },
      "text/plain": [
       "FloatProgress(value=0.0, bar_style='info', description='Progress:', layout=Layout(height='25px', width='50%'),…"
      ]
     },
     "metadata": {},
     "output_type": "display_data"
    },
    {
     "name": "stdout",
     "output_type": "stream",
     "text": [
      "<pyspark.sql.session.SparkSession object at 0x7fd1b9957d90>"
     ]
    }
   ],
   "source": [
    "spark"
   ]
  },
  {
   "cell_type": "code",
   "execution_count": 2,
   "id": "dc288860",
   "metadata": {
    "scrolled": true
   },
   "outputs": [
    {
     "data": {
      "application/vnd.jupyter.widget-view+json": {
       "model_id": "",
       "version_major": 2,
       "version_minor": 0
      },
      "text/plain": [
       "FloatProgress(value=0.0, bar_style='info', description='Progress:', layout=Layout(height='25px', width='50%'),…"
      ]
     },
     "metadata": {},
     "output_type": "display_data"
    },
    {
     "name": "stdout",
     "output_type": "stream",
     "text": [
      "<SparkContext master=yarn appName=livy-session-1>"
     ]
    }
   ],
   "source": [
    "sc"
   ]
  },
  {
   "cell_type": "markdown",
   "id": "3cac607a",
   "metadata": {},
   "source": [
    "### Estaciones que han realizado mediciones de NO y CO número de mediciones y rango de fechas, consultando desde tablas externas creadas en HIVE:"
   ]
  },
  {
   "cell_type": "code",
   "execution_count": 3,
   "id": "f865f531",
   "metadata": {
    "scrolled": true
   },
   "outputs": [
    {
     "data": {
      "application/vnd.jupyter.widget-view+json": {
       "model_id": "",
       "version_major": 2,
       "version_minor": 0
      },
      "text/plain": [
       "FloatProgress(value=0.0, bar_style='info', description='Progress:', layout=Layout(height='25px', width='50%'),…"
      ]
     },
     "metadata": {},
     "output_type": "display_data"
    },
    {
     "name": "stdout",
     "output_type": "stream",
     "text": [
      "+---------+------------------------------------------------------------------------+-----------+--------------+-------------------+-------------------+\n",
      "|indicador|nombre                                                                  |nombrecorto|num_mediciones|fecha_inicio       |fecha_fin          |\n",
      "+---------+------------------------------------------------------------------------+-----------+--------------+-------------------+-------------------+\n",
      "|co       |Politecnico Colombiano Jaime Isaza Cadavid - Medellin                   |MED-PJIC   |8761          |2021-12-14 04:00:00|2022-12-14 04:00:00|\n",
      "|co       |_OFF-Estación Tráfico Sur                                               |SUR-TRAF   |8761          |2021-12-14 04:00:00|2022-12-14 04:00:00|\n",
      "|co       |_OFF-Girardota - S.O.S Aburrá Norte                                     |GIR-SOSN   |8761          |2021-12-14 04:00:00|2022-12-14 04:00:00|\n",
      "|no       |Institucion Universitaria ITM Robledo                                   |MED-ITMR   |8761          |2021-12-14 04:00:00|2022-12-14 04:00:00|\n",
      "|no       |Itagüí - Casa de Justicia Itagüí                                        |ITA-CJUS   |8761          |2021-12-14 04:00:00|2022-12-14 04:00:00|\n",
      "|no       |Politecnico Colombiano Jaime Isaza Cadavid - Medellin                   |MED-PJIC   |8761          |2021-12-14 04:00:00|2022-12-14 04:00:00|\n",
      "|no       |Universidad San Buenaventura                                            |BEL-USBV   |8761          |2021-12-14 04:00:00|2022-12-14 04:00:00|\n",
      "|no       |_OFF-Estación Tráfico Sur                                               |SUR-TRAF   |8761          |2021-12-14 04:00:00|2022-12-14 04:00:00|\n",
      "|no       |_OFF-Girardota - S.O.S Aburrá Norte                                     |GIR-SOSN   |8761          |2021-12-14 04:00:00|2022-12-14 04:00:00|\n",
      "|no       |_OFF-Medellín,  centro occidente - Universidad Nacional, sede El Volador|MED-UNNV   |8761          |2021-12-14 04:00:00|2022-12-14 04:00:00|\n",
      "+---------+------------------------------------------------------------------------+-----------+--------------+-------------------+-------------------+"
     ]
    }
   ],
   "source": [
    "df_no_co=spark.sql(\"SELECT 'co' indicador,\\\n",
    "                        nombre,\\\n",
    "                        nombrecorto,\\\n",
    "                        count(1) num_mediciones,\\\n",
    "                        min(fecha) fecha_inicio,\\\n",
    "                        max(fecha) fecha_fin \\\n",
    "                FROM proyecto1.co_trusted \\\n",
    "                group by indicador,nombre,nombrecorto\\\n",
    "                union ALL\\\n",
    "                SELECT 'no' indicador, \\\n",
    "                        nombre,\\\n",
    "                        nombrecorto,\\\n",
    "                        count(1) num_mediciones,\\\n",
    "                        min(fecha) fecha_inicio,\\\n",
    "                        max(fecha) fecha_fin \\\n",
    "                        FROM proyecto1.no_trusted \\\n",
    "                group by indicador,nombre,nombrecorto\")\n",
    "df_no_co.show(truncate=False)"
   ]
  },
  {
   "cell_type": "markdown",
   "id": "974c7c0c",
   "metadata": {},
   "source": [
    "### Estaciones que han realizado mediciones de CO2 y SO2, número de mediciones y rango de fechas, consultado tablas externas creadas desde Redshift Spectrum:"
   ]
  },
  {
   "cell_type": "code",
   "execution_count": 4,
   "id": "b8cfea74",
   "metadata": {
    "scrolled": true
   },
   "outputs": [
    {
     "data": {
      "application/vnd.jupyter.widget-view+json": {
       "model_id": "",
       "version_major": 2,
       "version_minor": 0
      },
      "text/plain": [
       "FloatProgress(value=0.0, bar_style='info', description='Progress:', layout=Layout(height='25px', width='50%'),…"
      ]
     },
     "metadata": {},
     "output_type": "display_data"
    },
    {
     "name": "stdout",
     "output_type": "stream",
     "text": [
      "+---------+------------------------------------------------------------------------+-----------+--------------+-------------------+-------------------+\n",
      "|indicador|nombre                                                                  |nombrecorto|num_mediciones|fecha_inicio       |fecha_fin          |\n",
      "+---------+------------------------------------------------------------------------+-----------+--------------+-------------------+-------------------+\n",
      "|so2      |_OFF-Girardota - S.O.S Aburrá Norte                                     |GIR-SOSN   |8761          |2021-12-14 04:00:00|2022-12-14 04:00:00|\n",
      "|no2      |Institucion Universitaria ITM Robledo                                   |MED-ITMR   |8761          |2021-12-14 04:00:00|2022-12-14 04:00:00|\n",
      "|no2      |Itagüí - Casa de Justicia Itagüí                                        |ITA-CJUS   |8761          |2021-12-14 04:00:00|2022-12-14 04:00:00|\n",
      "|no2      |Politecnico Colombiano Jaime Isaza Cadavid - Medellin                   |MED-PJIC   |8761          |2021-12-14 04:00:00|2022-12-14 04:00:00|\n",
      "|no2      |Universidad San Buenaventura                                            |BEL-USBV   |8761          |2021-12-14 04:00:00|2022-12-14 04:00:00|\n",
      "|no2      |_OFF-Estación Tráfico Sur                                               |SUR-TRAF   |8761          |2021-12-14 04:00:00|2022-12-14 04:00:00|\n",
      "|no2      |_OFF-Girardota - S.O.S Aburrá Norte                                     |GIR-SOSN   |8761          |2021-12-14 04:00:00|2022-12-14 04:00:00|\n",
      "|no2      |_OFF-Medellín,  centro occidente - Universidad Nacional, sede El Volador|MED-UNNV   |8761          |2021-12-14 04:00:00|2022-12-14 04:00:00|\n",
      "+---------+------------------------------------------------------------------------+-----------+--------------+-------------------+-------------------+"
     ]
    }
   ],
   "source": [
    "df_co2_so2=spark.sql(\"SELECT 'so2' indicador,\\\n",
    "                        nombre,\\\n",
    "                        nombrecorto,\\\n",
    "                        count(1) num_mediciones,\\\n",
    "                        min(fecha) fecha_inicio,\\\n",
    "                        max(fecha) fecha_fin \\\n",
    "                FROM proyecto1_spectrumdb.so2_trusted_spectrum \\\n",
    "                group by indicador,nombre,nombrecorto\\\n",
    "                union ALL\\\n",
    "                SELECT 'no2' indicador, \\\n",
    "                        nombre,\\\n",
    "                        nombrecorto,\\\n",
    "                        count(1) num_mediciones,\\\n",
    "                        min(fecha) fecha_inicio,\\\n",
    "                        max(fecha) fecha_fin \\\n",
    "                        FROM proyecto1_spectrumdb.no2_trusted_spectrum \\\n",
    "                group by indicador,nombre,nombrecorto\")\n",
    "df_co2_so2.show(truncate=False)"
   ]
  },
  {
   "cell_type": "markdown",
   "id": "1acf4bda",
   "metadata": {},
   "source": [
    "### Edad Promedio por Municipio, y cuál es el municipio con mayor edad promedio:"
   ]
  },
  {
   "cell_type": "code",
   "execution_count": 5,
   "id": "c0f2ae60",
   "metadata": {},
   "outputs": [
    {
     "data": {
      "application/vnd.jupyter.widget-view+json": {
       "model_id": "",
       "version_major": 2,
       "version_minor": 0
      },
      "text/plain": [
       "FloatProgress(value=0.0, bar_style='info', description='Progress:', layout=Layout(height='25px', width='50%'),…"
      ]
     },
     "metadata": {},
     "output_type": "display_data"
    }
   ],
   "source": [
    "df_pob=spark.sql('select nombremunicipio,\\\n",
    "       sum(hombres_cabecera+hombres_centropoblado+hombresruraldisperso) total_hombres,\\\n",
    "       sum(mujeres_cabecera+mujeres_centropoblado+mujeresruraldisperso) total_mujeres,\\\n",
    "       sum(edad*(hombres_cabecera+hombres_centropoblado+hombresruraldisperso+mujeres_cabecera+mujeres_centropoblado+mujeresruraldisperso))/\\\n",
    "       sum(hombres_cabecera+hombres_centropoblado+hombresruraldisperso+mujeres_cabecera+mujeres_centropoblado+mujeresruraldisperso) edad_promedio\\\n",
    "    from proyecto1_spectrumdb.poblacionantioquia_spectrum\\\n",
    "    where edad is not null\\\n",
    "    group by nombremunicipio')"
   ]
  },
  {
   "cell_type": "code",
   "execution_count": 6,
   "id": "878f74b7",
   "metadata": {},
   "outputs": [
    {
     "data": {
      "application/vnd.jupyter.widget-view+json": {
       "model_id": "",
       "version_major": 2,
       "version_minor": 0
      },
      "text/plain": [
       "FloatProgress(value=0.0, bar_style='info', description='Progress:', layout=Layout(height='25px', width='50%'),…"
      ]
     },
     "metadata": {},
     "output_type": "display_data"
    },
    {
     "name": "stdout",
     "output_type": "stream",
     "text": [
      "+---------------+-------------+-------------+------------------+\n",
      "|nombremunicipio|total_hombres|total_mujeres|     edad_promedio|\n",
      "+---------------+-------------+-------------+------------------+\n",
      "|        Armenia|       1912.0|       1907.0|40.450641529196126|\n",
      "|       Envigado|      97955.0|     114482.0|  39.9075396470483|\n",
      "|       Carolina|       1646.0|       1697.0| 39.82829793598564|\n",
      "|        Ebéjico|       5285.0|       5053.0| 39.51808860514606|\n",
      "|       Titiribí|       4118.0|       4198.0| 39.31036556036556|\n",
      "|         Jericó|       5580.0|       5677.0|39.085724438127386|\n",
      "|       Fredonia|       9415.0|       9375.0| 38.77823310271421|\n",
      "|        Támesis|       7569.0|       7443.0|38.737276845190515|\n",
      "|      Heliconia|       2464.0|       2245.0| 38.68464642174559|\n",
      "|        Venecia|       5063.0|       5217.0|38.665856031128406|\n",
      "|     Montebello|       3007.0|       2874.0|38.400102023465394|\n",
      "|     Valparaíso|       2758.0|       2673.0|38.373780150985084|\n",
      "|  Santa Bárbara|      10946.0|      11084.0| 38.37190195188379|\n",
      "|       Caracolí|       2007.0|       1960.0| 38.14091252835896|\n",
      "|     Concepción|       2023.0|       1913.0| 37.87474593495935|\n",
      "|      Caramanta|       2148.0|       2121.0| 37.76294214101663|\n",
      "|    Gómez Plata|       4149.0|       4086.0| 37.67820279295689|\n",
      "|         Retiro|      10145.0|      10555.0|37.529613526570046|\n",
      "|       Cisneros|       4270.0|       4640.0| 37.21683501683502|\n",
      "|       Sabaneta|      38091.0|      43706.0|37.185728082937025|\n",
      "+---------------+-------------+-------------+------------------+\n",
      "only showing top 20 rows"
     ]
    }
   ],
   "source": [
    "df_pob.sort(\"edad_promedio\", ascending=[False]).show()"
   ]
  },
  {
   "cell_type": "markdown",
   "id": "aff3c981",
   "metadata": {},
   "source": [
    "### Municipio con Menor Edad Promedio"
   ]
  },
  {
   "cell_type": "code",
   "execution_count": 7,
   "id": "7258e2c5",
   "metadata": {
    "scrolled": true
   },
   "outputs": [
    {
     "data": {
      "application/vnd.jupyter.widget-view+json": {
       "model_id": "",
       "version_major": 2,
       "version_minor": 0
      },
      "text/plain": [
       "FloatProgress(value=0.0, bar_style='info', description='Progress:', layout=Layout(height='25px', width='50%'),…"
      ]
     },
     "metadata": {},
     "output_type": "display_data"
    },
    {
     "name": "stdout",
     "output_type": "stream",
     "text": [
      "+-----------------+-------------+-------------+------------------+\n",
      "|  nombremunicipio|total_hombres|total_mujeres|     edad_promedio|\n",
      "+-----------------+-------------+-------------+------------------+\n",
      "|          Murindó|       2362.0|       2280.0|23.291684618698838|\n",
      "| Vigía Del Fuerte|       4049.0|       4090.0|25.968546504484582|\n",
      "|           Mutatá|       6403.0|       6204.0| 27.46180693265646|\n",
      "|            Turbo|      55316.0|      59118.0|27.671417585682576|\n",
      "|         El Bagre|      23851.0|      23791.0|  27.7971117921162|\n",
      "|         Zaragoza|      12099.0|      11968.0| 27.92230024514896|\n",
      "|           Carepa|      22989.0|      22947.0|28.004636886102404|\n",
      "|San Juan De Urabá|       9904.0|      10088.0|28.090186074429774|\n",
      "|          Necoclí|      19094.0|      19326.0|28.104919312857888|\n",
      "|          Cáceres|      13794.0|      12666.0|28.193461829176115|\n",
      "|            Nechí|      12369.0|      11697.0| 28.22409208011302|\n",
      "|           Tarazá|      11272.0|      11554.0|28.269473407517744|\n",
      "|          Dabeiba|      11546.0|      11171.0|28.626931372980586|\n",
      "|        Chigorodó|      26887.0|      28677.0|28.746310560794758|\n",
      "|            Anorí|       7504.0|       6998.0| 29.24610398565715|\n",
      "|         Apartadó|      55847.0|      57622.0|  29.3641346975826|\n",
      "|         Remedios|      11254.0|      11276.0|29.392853972481138|\n",
      "|          Segovia|      16853.0|      16837.0|29.477530424458298|\n",
      "|          Briceño|       3071.0|       2875.0|29.543222334342413|\n",
      "|            Yondó|       9046.0|       8551.0|29.558788429845997|\n",
      "+-----------------+-------------+-------------+------------------+\n",
      "only showing top 20 rows"
     ]
    }
   ],
   "source": [
    "df_pob.sort(\"edad_promedio\", ascending=[True]).show()"
   ]
  },
  {
   "cell_type": "markdown",
   "id": "07e4a359",
   "metadata": {},
   "source": [
    "### Edad Promedio del Departamento de Antioquia"
   ]
  },
  {
   "cell_type": "code",
   "execution_count": 8,
   "id": "620f148b",
   "metadata": {},
   "outputs": [
    {
     "data": {
      "application/vnd.jupyter.widget-view+json": {
       "model_id": "",
       "version_major": 2,
       "version_minor": 0
      },
      "text/plain": [
       "FloatProgress(value=0.0, bar_style='info', description='Progress:', layout=Layout(height='25px', width='50%'),…"
      ]
     },
     "metadata": {},
     "output_type": "display_data"
    },
    {
     "name": "stdout",
     "output_type": "stream",
     "text": [
      "+------------------+\n",
      "|avg(edad_promedio)|\n",
      "+------------------+\n",
      "| 33.73590774624305|\n",
      "+------------------+"
     ]
    }
   ],
   "source": [
    "df_pob.groupby().avg('edad_promedio').show()"
   ]
  },
  {
   "cell_type": "markdown",
   "id": "1689110e",
   "metadata": {},
   "source": [
    "### Municipio con mayor indice de NO2 y cuanta es su poblacion y edad promedio:"
   ]
  },
  {
   "cell_type": "code",
   "execution_count": 13,
   "id": "c2565878",
   "metadata": {},
   "outputs": [
    {
     "data": {
      "application/vnd.jupyter.widget-view+json": {
       "model_id": "",
       "version_major": 2,
       "version_minor": 0
      },
      "text/plain": [
       "FloatProgress(value=0.0, bar_style='info', description='Progress:', layout=Layout(height='25px', width='50%'),…"
      ]
     },
     "metadata": {},
     "output_type": "display_data"
    }
   ],
   "source": [
    "sql_no2_pob =\"with poblacion as ( \\\n",
    "    select nombremunicipio municipio, \\\n",
    "       sum(hombres_cabecera+hombres_centropoblado+hombresruraldisperso+mujeres_cabecera+mujeres_centropoblado+mujeresruraldisperso) poblacion, \\\n",
    "       sum(edad*(hombres_cabecera+hombres_centropoblado+hombresruraldisperso+mujeres_cabecera+mujeres_centropoblado+mujeresruraldisperso))/ \\\n",
    "    sum(hombres_cabecera+hombres_centropoblado+hombresruraldisperso+mujeres_cabecera+mujeres_centropoblado+mujeresruraldisperso) edad_promedio \\\n",
    "    from proyecto1_spectrumdb.poblacionantioquia_spectrum \\\n",
    "    where edad is not null \\\n",
    "    group by nombremunicipio \\\n",
    "), calidad_no2 as ( \\\n",
    "select municipio,avg(calidad) calidad_no2 \\\n",
    "FROM proyecto1_spectrumdb.no2_trusted_spectrum a \\\n",
    "inner join proyecto1.ubicaciones_mediciones b on a.nombrecorto=b.ubicacion \\\n",
    "group by municipio \\\n",
    ") \\\n",
    "select a.municipio,a.calidad_no2,b.poblacion,b.edad_promedio \\\n",
    "from calidad_no2 A \\\n",
    "LEFT JOIN poblacion B ON A.municipio=B.municipio\""
   ]
  },
  {
   "cell_type": "code",
   "execution_count": 14,
   "id": "abd039b9",
   "metadata": {},
   "outputs": [
    {
     "data": {
      "application/vnd.jupyter.widget-view+json": {
       "model_id": "",
       "version_major": 2,
       "version_minor": 0
      },
      "text/plain": [
       "FloatProgress(value=0.0, bar_style='info', description='Progress:', layout=Layout(height='25px', width='50%'),…"
      ]
     },
     "metadata": {},
     "output_type": "display_data"
    },
    {
     "name": "stdout",
     "output_type": "stream",
     "text": [
      "+---------+------------------+---------+------------------+\n",
      "|municipio|       calidad_no2|poblacion|     edad_promedio|\n",
      "+---------+------------------+---------+------------------+\n",
      "|Girardota|   4.3084887569914|  49045.0| 35.87234172698542|\n",
      "| Medellín|3.2056439523647136|2347656.0|36.150517367110005|\n",
      "| Sabaneta| 1.239796826846263|  81797.0|37.185728082937025|\n",
      "+---------+------------------+---------+------------------+"
     ]
    }
   ],
   "source": [
    "df_no2_pob=spark.sql(sql_no2_pob)\n",
    "df_no2_pob.sort(\"calidad_no2\", ascending=[False]).show()"
   ]
  },
  {
   "cell_type": "markdown",
   "id": "d93eace2",
   "metadata": {},
   "source": [
    "### Municipio con menor indice de CO y cuantos de su población son hombres y cuantos mujeres"
   ]
  },
  {
   "cell_type": "code",
   "execution_count": 15,
   "id": "5fdd14a7",
   "metadata": {},
   "outputs": [
    {
     "data": {
      "application/vnd.jupyter.widget-view+json": {
       "model_id": "",
       "version_major": 2,
       "version_minor": 0
      },
      "text/plain": [
       "FloatProgress(value=0.0, bar_style='info', description='Progress:', layout=Layout(height='25px', width='50%'),…"
      ]
     },
     "metadata": {},
     "output_type": "display_data"
    }
   ],
   "source": [
    "sql_co_pob =\"with poblacion as ( \\\n",
    "    select nombremunicipio municipio, \\\n",
    "       sum(hombres_cabecera+hombres_centropoblado+hombresruraldisperso+mujeres_cabecera+mujeres_centropoblado+mujeresruraldisperso) poblacion, \\\n",
    "       sum(edad*(hombres_cabecera+hombres_centropoblado+hombresruraldisperso+mujeres_cabecera+mujeres_centropoblado+mujeresruraldisperso))/ \\\n",
    "    sum(hombres_cabecera+hombres_centropoblado+hombresruraldisperso+mujeres_cabecera+mujeres_centropoblado+mujeresruraldisperso) edad_promedio \\\n",
    "    from proyecto1_spectrumdb.poblacionantioquia_spectrum \\\n",
    "    where edad is not null \\\n",
    "    group by nombremunicipio \\\n",
    ") , calidad_co as ( \\\n",
    "select municipio,avg(calidad) calidad_co \\\n",
    "FROM proyecto1.co_trusted a \\\n",
    "inner join proyecto1.ubicaciones_mediciones b on a.nombrecorto=b.ubicacion \\\n",
    "group by municipio \\\n",
    ") \\\n",
    "select a.municipio,a.calidad_co,b.poblacion,b.edad_promedio \\\n",
    "from calidad_co A \\\n",
    "LEFT JOIN poblacion B ON A.municipio=B.municipio\""
   ]
  },
  {
   "cell_type": "code",
   "execution_count": 17,
   "id": "71599ddb",
   "metadata": {},
   "outputs": [
    {
     "data": {
      "application/vnd.jupyter.widget-view+json": {
       "model_id": "",
       "version_major": 2,
       "version_minor": 0
      },
      "text/plain": [
       "FloatProgress(value=0.0, bar_style='info', description='Progress:', layout=Layout(height='25px', width='50%'),…"
      ]
     },
     "metadata": {},
     "output_type": "display_data"
    },
    {
     "name": "stdout",
     "output_type": "stream",
     "text": [
      "+---------+------------------+---------+------------------+\n",
      "|municipio|        calidad_co|poblacion|     edad_promedio|\n",
      "+---------+------------------+---------+------------------+\n",
      "| Medellín|1.3884442415249654|2347656.0|36.150517367110005|\n",
      "| Sabaneta|               4.0|  81797.0|37.185728082937025|\n",
      "|Girardota| 4.310000000000188|  49045.0| 35.87234172698542|\n",
      "+---------+------------------+---------+------------------+"
     ]
    }
   ],
   "source": [
    "df_co_pob=spark.sql(sql_co_pob)\n",
    "df_co_pob.sort(\"calidad_co\", ascending=[True]).show()"
   ]
  }
 ],
 "metadata": {
  "kernelspec": {
   "display_name": "PySpark",
   "language": "python",
   "name": "pysparkkernel"
  },
  "language_info": {
   "codemirror_mode": {
    "name": "python",
    "version": 3
   },
   "file_extension": ".py",
   "mimetype": "text/x-python",
   "name": "pyspark",
   "pygments_lexer": "python3"
  }
 },
 "nbformat": 4,
 "nbformat_minor": 5
}
